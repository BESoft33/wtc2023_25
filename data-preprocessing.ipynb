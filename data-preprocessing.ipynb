{
 "metadata": {
  "kernelspec": {
   "language": "python",
   "display_name": "Python 3",
   "name": "python3"
  },
  "language_info": {
   "name": "python",
   "version": "3.10.13",
   "mimetype": "text/x-python",
   "codemirror_mode": {
    "name": "ipython",
    "version": 3
   },
   "pygments_lexer": "ipython3",
   "nbconvert_exporter": "python",
   "file_extension": ".py"
  },
  "kaggle": {
   "accelerator": "none",
   "dataSources": [
    {
     "sourceId": 7874991,
     "sourceType": "datasetVersion",
     "datasetId": 4621246
    }
   ],
   "dockerImageVersionId": 30673,
   "isInternetEnabled": true,
   "language": "python",
   "sourceType": "notebook",
   "isGpuEnabled": false
  }
 },
 "nbformat_minor": 4,
 "nbformat": 4,
 "cells": [
  {
   "cell_type": "code",
   "source": [
    "import numpy as np # linear algebra\n",
    "import pandas as pd # data processing, CSV file I/O (e.g. pd.read_csv)\n",
    "import matplotlib.pyplot as plt\n",
    "import seaborn as sns\n",
    "import plotly.express as px"
   ],
   "metadata": {
    "_uuid": "8f2839f25d086af736a60e9eeb907d3b93b6e0e5",
    "_cell_guid": "b1076dfc-b9ad-4769-8c92-a6c4dae69d19",
    "execution": {
     "iopub.status.busy": "2024-03-23T17:43:37.394957Z",
     "iopub.execute_input": "2024-03-23T17:43:37.395402Z",
     "iopub.status.idle": "2024-03-23T17:43:37.406693Z",
     "shell.execute_reply.started": "2024-03-23T17:43:37.395368Z",
     "shell.execute_reply": "2024-03-23T17:43:37.405629Z"
    },
    "trusted": true,
    "ExecuteTime": {
     "end_time": "2024-03-24T18:05:33.119441600Z",
     "start_time": "2024-03-24T18:05:33.082143900Z"
    }
   },
   "execution_count": 238,
   "outputs": []
  },
  {
   "cell_type": "code",
   "source": [
    "bowling = pd.read_csv('./bowling_stats.csv')\n",
    "batting = pd.read_csv('./batting_stats.csv')"
   ],
   "metadata": {
    "execution": {
     "iopub.status.busy": "2024-03-23T17:43:37.408106Z",
     "iopub.execute_input": "2024-03-23T17:43:37.408484Z",
     "iopub.status.idle": "2024-03-23T17:43:37.431871Z",
     "shell.execute_reply.started": "2024-03-23T17:43:37.408453Z",
     "shell.execute_reply": "2024-03-23T17:43:37.430715Z"
    },
    "trusted": true,
    "ExecuteTime": {
     "end_time": "2024-03-24T18:05:33.222615600Z",
     "start_time": "2024-03-24T18:05:33.091158Z"
    }
   },
   "execution_count": 239,
   "outputs": []
  },
  {
   "cell_type": "code",
   "source": [
    "bowling.sample(5)"
   ],
   "metadata": {
    "execution": {
     "iopub.status.busy": "2024-03-23T17:43:37.433995Z",
     "iopub.execute_input": "2024-03-23T17:43:37.434585Z",
     "iopub.status.idle": "2024-03-23T17:43:37.452491Z",
     "shell.execute_reply.started": "2024-03-23T17:43:37.434550Z",
     "shell.execute_reply": "2024-03-23T17:43:37.451323Z"
    },
    "trusted": true,
    "ExecuteTime": {
     "end_time": "2024-03-24T18:05:33.236177Z",
     "start_time": "2024-03-24T18:05:33.120480600Z"
    }
   },
   "execution_count": 240,
   "outputs": [
    {
     "data": {
      "text/plain": "               bowler  over  maiden  runs  wickets  economy  wide  noball  \\\n277         Hasan Ali  23.5       7    61        2     2.55     0       1   \n9    Scott Kuggeleijn   6.0       1    30        0     5.00     0       0   \n86        Rehan Ahmed  22.0       2    85        2     3.86     0       0   \n314       Nathan Lyon   8.0       2    14        2     1.75     0       0   \n253    Josh Hazlewood   9.0       2    16        4     1.77     0       0   \n\n                    inning                                             series  \n277  Australia 1st Innings  Australia vs Pakistan, 2nd Test at Melbourne, ...  \n9    Australia 1st Innings  New Zealand vs Australia, 2nd Test at Christch...  \n86       India 1st Innings  India vs England, 3rd Test at Rajkot, Feb 15 2...  \n314   Pakistan 2nd Innings  Australia vs Pakistan, 1st Test at Perth, Dec ...  \n253   Pakistan 2nd Innings  Australia vs Pakistan, 3rd Test at Sydney, Jan...  ",
      "text/html": "<div>\n<style scoped>\n    .dataframe tbody tr th:only-of-type {\n        vertical-align: middle;\n    }\n\n    .dataframe tbody tr th {\n        vertical-align: top;\n    }\n\n    .dataframe thead th {\n        text-align: right;\n    }\n</style>\n<table border=\"1\" class=\"dataframe\">\n  <thead>\n    <tr style=\"text-align: right;\">\n      <th></th>\n      <th>bowler</th>\n      <th>over</th>\n      <th>maiden</th>\n      <th>runs</th>\n      <th>wickets</th>\n      <th>economy</th>\n      <th>wide</th>\n      <th>noball</th>\n      <th>inning</th>\n      <th>series</th>\n    </tr>\n  </thead>\n  <tbody>\n    <tr>\n      <th>277</th>\n      <td>Hasan Ali</td>\n      <td>23.5</td>\n      <td>7</td>\n      <td>61</td>\n      <td>2</td>\n      <td>2.55</td>\n      <td>0</td>\n      <td>1</td>\n      <td>Australia 1st Innings</td>\n      <td>Australia vs Pakistan, 2nd Test at Melbourne, ...</td>\n    </tr>\n    <tr>\n      <th>9</th>\n      <td>Scott Kuggeleijn</td>\n      <td>6.0</td>\n      <td>1</td>\n      <td>30</td>\n      <td>0</td>\n      <td>5.00</td>\n      <td>0</td>\n      <td>0</td>\n      <td>Australia 1st Innings</td>\n      <td>New Zealand vs Australia, 2nd Test at Christch...</td>\n    </tr>\n    <tr>\n      <th>86</th>\n      <td>Rehan Ahmed</td>\n      <td>22.0</td>\n      <td>2</td>\n      <td>85</td>\n      <td>2</td>\n      <td>3.86</td>\n      <td>0</td>\n      <td>0</td>\n      <td>India 1st Innings</td>\n      <td>India vs England, 3rd Test at Rajkot, Feb 15 2...</td>\n    </tr>\n    <tr>\n      <th>314</th>\n      <td>Nathan Lyon</td>\n      <td>8.0</td>\n      <td>2</td>\n      <td>14</td>\n      <td>2</td>\n      <td>1.75</td>\n      <td>0</td>\n      <td>0</td>\n      <td>Pakistan 2nd Innings</td>\n      <td>Australia vs Pakistan, 1st Test at Perth, Dec ...</td>\n    </tr>\n    <tr>\n      <th>253</th>\n      <td>Josh Hazlewood</td>\n      <td>9.0</td>\n      <td>2</td>\n      <td>16</td>\n      <td>4</td>\n      <td>1.77</td>\n      <td>0</td>\n      <td>0</td>\n      <td>Pakistan 2nd Innings</td>\n      <td>Australia vs Pakistan, 3rd Test at Sydney, Jan...</td>\n    </tr>\n  </tbody>\n</table>\n</div>"
     },
     "execution_count": 240,
     "metadata": {},
     "output_type": "execute_result"
    }
   ]
  },
  {
   "cell_type": "markdown",
   "source": [
    "## Data Processing"
   ],
   "metadata": {}
  },
  {
   "cell_type": "code",
   "source": [
    "bowling.info()"
   ],
   "metadata": {
    "execution": {
     "iopub.status.busy": "2024-03-23T17:43:37.454642Z",
     "iopub.execute_input": "2024-03-23T17:43:37.454981Z",
     "iopub.status.idle": "2024-03-23T17:43:37.469101Z",
     "shell.execute_reply.started": "2024-03-23T17:43:37.454952Z",
     "shell.execute_reply": "2024-03-23T17:43:37.467811Z"
    },
    "trusted": true,
    "ExecuteTime": {
     "end_time": "2024-03-24T18:05:33.237732300Z",
     "start_time": "2024-03-24T18:05:33.139260200Z"
    }
   },
   "execution_count": 241,
   "outputs": [
    {
     "name": "stdout",
     "output_type": "stream",
     "text": [
      "<class 'pandas.core.frame.DataFrame'>\n",
      "RangeIndex: 493 entries, 0 to 492\n",
      "Data columns (total 10 columns):\n",
      " #   Column   Non-Null Count  Dtype  \n",
      "---  ------   --------------  -----  \n",
      " 0   bowler   493 non-null    object \n",
      " 1   over     493 non-null    float64\n",
      " 2   maiden   493 non-null    int64  \n",
      " 3   runs     493 non-null    int64  \n",
      " 4   wickets  493 non-null    int64  \n",
      " 5   economy  493 non-null    float64\n",
      " 6   wide     493 non-null    int64  \n",
      " 7   noball   493 non-null    int64  \n",
      " 8   inning   493 non-null    object \n",
      " 9   series   493 non-null    object \n",
      "dtypes: float64(2), int64(5), object(3)\n",
      "memory usage: 38.6+ KB\n"
     ]
    }
   ]
  },
  {
   "cell_type": "code",
   "source": [
    "#'series' column contains data like 'TeamA vs TeamB, SeriesName'\n",
    "# The 'inning' column contains the team name of the batting team\n",
    "# Extracting the batting team name for 'vs' column\n",
    "bowling['vs'] = bowling['inning'].str.split(' ').apply(lambda x: ' '.join(x[:-2]).strip())\n",
    "\n",
    "# Now, we need to identify which team from 'match' column is not in 'vs' column\n",
    "# Assuming 'match' column contains data like 'TeamX vs TeamY'\n",
    "# Extracting the team that is not in 'vs' column\n",
    "def find_next_team(a_vs_b, vs):\n",
    "    teams = a_vs_b.split('vs')\n",
    "    for team in teams:\n",
    "        if team.strip() not in vs:\n",
    "            return team.strip()\n",
    "\n",
    "bowling['team'] = bowling.apply(lambda row: find_next_team(row['series'].split(',')[0], row['vs']), axis=1)\n"
   ],
   "metadata": {
    "execution": {
     "iopub.status.busy": "2024-03-23T17:43:37.470576Z",
     "iopub.execute_input": "2024-03-23T17:43:37.470996Z",
     "iopub.status.idle": "2024-03-23T17:43:37.497020Z",
     "shell.execute_reply.started": "2024-03-23T17:43:37.470955Z",
     "shell.execute_reply": "2024-03-23T17:43:37.495883Z"
    },
    "trusted": true,
    "ExecuteTime": {
     "end_time": "2024-03-24T18:05:33.238277900Z",
     "start_time": "2024-03-24T18:05:33.148328500Z"
    }
   },
   "execution_count": 242,
   "outputs": []
  },
  {
   "cell_type": "code",
   "source": [
    "bowling['inning'] = bowling['inning'].str.split(' ').apply(lambda x: ' '.join(x[-2:]).strip())\n",
    "bowling['match'] = bowling['series'].str.split(',').apply(lambda x: x[1].split('at')[0])\n",
    "bowling['venue'] = bowling['series'].str.split(',').apply(lambda x: x[1].split('at')[1])\n",
    "bowling['date'] = bowling['series'].str.split(',').apply(lambda x: x[2])\n",
    "bowling['series'] = bowling['series'].str.split(',').apply(lambda x: x[3])"
   ],
   "metadata": {
    "execution": {
     "iopub.status.busy": "2024-03-23T17:43:37.499192Z",
     "iopub.execute_input": "2024-03-23T17:43:37.499558Z",
     "iopub.status.idle": "2024-03-23T17:43:37.515527Z",
     "shell.execute_reply.started": "2024-03-23T17:43:37.499528Z",
     "shell.execute_reply": "2024-03-23T17:43:37.514329Z"
    },
    "trusted": true,
    "ExecuteTime": {
     "end_time": "2024-03-24T18:05:33.239287400Z",
     "start_time": "2024-03-24T18:05:33.163206Z"
    }
   },
   "execution_count": 243,
   "outputs": []
  },
  {
   "cell_type": "code",
   "source": [
    "bowling.sample(10)"
   ],
   "metadata": {
    "execution": {
     "iopub.status.busy": "2024-03-23T17:43:37.516813Z",
     "iopub.execute_input": "2024-03-23T17:43:37.517984Z",
     "iopub.status.idle": "2024-03-23T17:43:37.544964Z",
     "shell.execute_reply.started": "2024-03-23T17:43:37.517951Z",
     "shell.execute_reply": "2024-03-23T17:43:37.543666Z"
    },
    "trusted": true,
    "ExecuteTime": {
     "end_time": "2024-03-24T18:05:33.239287400Z",
     "start_time": "2024-03-24T18:05:33.178597800Z"
    }
   },
   "execution_count": 244,
   "outputs": [
    {
     "data": {
      "text/plain": "               bowler  over  maiden  runs  wickets  economy  wide  noball  \\\n241    Josh Hazlewood  15.0       2    65        1     4.33     0       0   \n424    Jaydev Unadkat   2.0       1     1        0     0.50     0       0   \n277         Hasan Ali  23.5       7    61        2     2.55     0       1   \n126    Ruan de Swardt  29.0       7    61        2     2.10     0       0   \n311    Mitchell Starc   9.0       2    31        3     3.44     0       0   \n487    James Anderson  17.0       1    56        0     3.29     0       1   \n326  Mitchell Santner  11.0       0    51        3     4.63     0       0   \n453    Mitchell Starc  17.0       0    88        3     5.17     1       1   \n330      Taijul Islam  14.0       2    58        2     4.14     0       0   \n99    Ravindra Jadeja  12.4       4    41        5     3.23     0       2   \n\n          inning                                             series  \\\n241  1st Innings                         Pakistan tour of Australia   \n424  2nd Innings   India tour of West Indies and United States o...   \n277  1st Innings                         Pakistan tour of Australia   \n126  1st Innings                   South Africa tour of New Zealand   \n311  2nd Innings                         Pakistan tour of Australia   \n487  2nd Innings                                          The Ashes   \n326  2nd Innings                     New Zealand tour of Bangladesh   \n453  1st Innings                                          The Ashes   \n330  2nd Innings                     New Zealand tour of Bangladesh   \n99   2nd Innings                              England tour of India   \n\n              vs          team       match             venue          date  \n241     Pakistan     Australia   3rd Test             Sydney   Jan 03 2024  \n424  West Indies         India   1st Test             Roseau   Jul 12 2023  \n277    Australia      Pakistan   2nd Test          Melbourne   Dec 26 2023  \n126  New Zealand  South Africa   1st Test    Mount Maunganui   Feb 04 2024  \n311     Pakistan     Australia   1st Test              Perth   Dec 14 2023  \n487    Australia       England   1st Test         Birmingham   Jun 16 2023  \n326   Bangladesh   New Zealand   2nd Test              Dhaka   Dec 06 2023  \n453      England     Australia   2nd Test             London   Jun 28 2023  \n330  New Zealand    Bangladesh   2nd Test              Dhaka   Dec 06 2023  \n99       England         India   3rd Test             Rajkot   Feb 15 2024  ",
      "text/html": "<div>\n<style scoped>\n    .dataframe tbody tr th:only-of-type {\n        vertical-align: middle;\n    }\n\n    .dataframe tbody tr th {\n        vertical-align: top;\n    }\n\n    .dataframe thead th {\n        text-align: right;\n    }\n</style>\n<table border=\"1\" class=\"dataframe\">\n  <thead>\n    <tr style=\"text-align: right;\">\n      <th></th>\n      <th>bowler</th>\n      <th>over</th>\n      <th>maiden</th>\n      <th>runs</th>\n      <th>wickets</th>\n      <th>economy</th>\n      <th>wide</th>\n      <th>noball</th>\n      <th>inning</th>\n      <th>series</th>\n      <th>vs</th>\n      <th>team</th>\n      <th>match</th>\n      <th>venue</th>\n      <th>date</th>\n    </tr>\n  </thead>\n  <tbody>\n    <tr>\n      <th>241</th>\n      <td>Josh Hazlewood</td>\n      <td>15.0</td>\n      <td>2</td>\n      <td>65</td>\n      <td>1</td>\n      <td>4.33</td>\n      <td>0</td>\n      <td>0</td>\n      <td>1st Innings</td>\n      <td>Pakistan tour of Australia</td>\n      <td>Pakistan</td>\n      <td>Australia</td>\n      <td>3rd Test</td>\n      <td>Sydney</td>\n      <td>Jan 03 2024</td>\n    </tr>\n    <tr>\n      <th>424</th>\n      <td>Jaydev Unadkat</td>\n      <td>2.0</td>\n      <td>1</td>\n      <td>1</td>\n      <td>0</td>\n      <td>0.50</td>\n      <td>0</td>\n      <td>0</td>\n      <td>2nd Innings</td>\n      <td>India tour of West Indies and United States o...</td>\n      <td>West Indies</td>\n      <td>India</td>\n      <td>1st Test</td>\n      <td>Roseau</td>\n      <td>Jul 12 2023</td>\n    </tr>\n    <tr>\n      <th>277</th>\n      <td>Hasan Ali</td>\n      <td>23.5</td>\n      <td>7</td>\n      <td>61</td>\n      <td>2</td>\n      <td>2.55</td>\n      <td>0</td>\n      <td>1</td>\n      <td>1st Innings</td>\n      <td>Pakistan tour of Australia</td>\n      <td>Australia</td>\n      <td>Pakistan</td>\n      <td>2nd Test</td>\n      <td>Melbourne</td>\n      <td>Dec 26 2023</td>\n    </tr>\n    <tr>\n      <th>126</th>\n      <td>Ruan de Swardt</td>\n      <td>29.0</td>\n      <td>7</td>\n      <td>61</td>\n      <td>2</td>\n      <td>2.10</td>\n      <td>0</td>\n      <td>0</td>\n      <td>1st Innings</td>\n      <td>South Africa tour of New Zealand</td>\n      <td>New Zealand</td>\n      <td>South Africa</td>\n      <td>1st Test</td>\n      <td>Mount Maunganui</td>\n      <td>Feb 04 2024</td>\n    </tr>\n    <tr>\n      <th>311</th>\n      <td>Mitchell Starc</td>\n      <td>9.0</td>\n      <td>2</td>\n      <td>31</td>\n      <td>3</td>\n      <td>3.44</td>\n      <td>0</td>\n      <td>0</td>\n      <td>2nd Innings</td>\n      <td>Pakistan tour of Australia</td>\n      <td>Pakistan</td>\n      <td>Australia</td>\n      <td>1st Test</td>\n      <td>Perth</td>\n      <td>Dec 14 2023</td>\n    </tr>\n    <tr>\n      <th>487</th>\n      <td>James Anderson</td>\n      <td>17.0</td>\n      <td>1</td>\n      <td>56</td>\n      <td>0</td>\n      <td>3.29</td>\n      <td>0</td>\n      <td>1</td>\n      <td>2nd Innings</td>\n      <td>The Ashes</td>\n      <td>Australia</td>\n      <td>England</td>\n      <td>1st Test</td>\n      <td>Birmingham</td>\n      <td>Jun 16 2023</td>\n    </tr>\n    <tr>\n      <th>326</th>\n      <td>Mitchell Santner</td>\n      <td>11.0</td>\n      <td>0</td>\n      <td>51</td>\n      <td>3</td>\n      <td>4.63</td>\n      <td>0</td>\n      <td>0</td>\n      <td>2nd Innings</td>\n      <td>New Zealand tour of Bangladesh</td>\n      <td>Bangladesh</td>\n      <td>New Zealand</td>\n      <td>2nd Test</td>\n      <td>Dhaka</td>\n      <td>Dec 06 2023</td>\n    </tr>\n    <tr>\n      <th>453</th>\n      <td>Mitchell Starc</td>\n      <td>17.0</td>\n      <td>0</td>\n      <td>88</td>\n      <td>3</td>\n      <td>5.17</td>\n      <td>1</td>\n      <td>1</td>\n      <td>1st Innings</td>\n      <td>The Ashes</td>\n      <td>England</td>\n      <td>Australia</td>\n      <td>2nd Test</td>\n      <td>London</td>\n      <td>Jun 28 2023</td>\n    </tr>\n    <tr>\n      <th>330</th>\n      <td>Taijul Islam</td>\n      <td>14.0</td>\n      <td>2</td>\n      <td>58</td>\n      <td>2</td>\n      <td>4.14</td>\n      <td>0</td>\n      <td>0</td>\n      <td>2nd Innings</td>\n      <td>New Zealand tour of Bangladesh</td>\n      <td>New Zealand</td>\n      <td>Bangladesh</td>\n      <td>2nd Test</td>\n      <td>Dhaka</td>\n      <td>Dec 06 2023</td>\n    </tr>\n    <tr>\n      <th>99</th>\n      <td>Ravindra Jadeja</td>\n      <td>12.4</td>\n      <td>4</td>\n      <td>41</td>\n      <td>5</td>\n      <td>3.23</td>\n      <td>0</td>\n      <td>2</td>\n      <td>2nd Innings</td>\n      <td>England tour of India</td>\n      <td>England</td>\n      <td>India</td>\n      <td>3rd Test</td>\n      <td>Rajkot</td>\n      <td>Feb 15 2024</td>\n    </tr>\n  </tbody>\n</table>\n</div>"
     },
     "execution_count": 244,
     "metadata": {},
     "output_type": "execute_result"
    }
   ]
  },
  {
   "cell_type": "code",
   "source": [
    "batting.info()"
   ],
   "metadata": {
    "execution": {
     "iopub.status.busy": "2024-03-23T17:43:37.546439Z",
     "iopub.execute_input": "2024-03-23T17:43:37.548792Z",
     "iopub.status.idle": "2024-03-23T17:43:37.562207Z",
     "shell.execute_reply.started": "2024-03-23T17:43:37.548756Z",
     "shell.execute_reply": "2024-03-23T17:43:37.561197Z"
    },
    "trusted": true,
    "ExecuteTime": {
     "end_time": "2024-03-24T18:05:33.240348100Z",
     "start_time": "2024-03-24T18:05:33.196615900Z"
    }
   },
   "execution_count": 245,
   "outputs": [
    {
     "name": "stdout",
     "output_type": "stream",
     "text": [
      "<class 'pandas.core.frame.DataFrame'>\n",
      "RangeIndex: 990 entries, 0 to 989\n",
      "Data columns (total 9 columns):\n",
      " #   Column       Non-Null Count  Dtype \n",
      "---  ------       --------------  ----- \n",
      " 0   batsman      990 non-null    object\n",
      " 1   runs         990 non-null    object\n",
      " 2   balls        990 non-null    object\n",
      " 3   minutes      990 non-null    object\n",
      " 4   fours        990 non-null    object\n",
      " 5   sixes        990 non-null    object\n",
      " 6   strike_rate  990 non-null    object\n",
      " 7   inning       990 non-null    object\n",
      " 8   series       990 non-null    object\n",
      "dtypes: object(9)\n",
      "memory usage: 69.7+ KB\n"
     ]
    }
   ]
  },
  {
   "cell_type": "markdown",
   "source": [
    "## Process data and extract information"
   ],
   "metadata": {}
  },
  {
   "cell_type": "code",
   "source": [
    "batting['team'] = batting['inning'].str.split(' ').apply(lambda x: ' '.join(x[:-2]).strip())\n",
    "batting['vs'] = batting.apply(lambda row: find_next_team(row['series'].split(',')[0], row['team']), axis=1)\n",
    "batting['inning'] = batting['inning'].str.split(' ').apply(lambda x: ' '.join(x[-2:]).strip())\n",
    "batting['match'] = batting['series'].str.split(',').apply(lambda x: x[1].split('at')[0])\n",
    "batting['venue'] = batting['series'].str.split(',').apply(lambda x: x[1].split('at')[1])\n",
    "batting['date'] = batting['series'].str.split(',').apply(lambda x: x[2])\n",
    "batting['series'] = batting['series'].str.split(',').apply(lambda x: x[3])\n"
   ],
   "metadata": {
    "execution": {
     "iopub.status.busy": "2024-03-23T17:43:37.582107Z",
     "iopub.execute_input": "2024-03-23T17:43:37.583122Z",
     "iopub.status.idle": "2024-03-23T17:43:37.629493Z",
     "shell.execute_reply.started": "2024-03-23T17:43:37.583081Z",
     "shell.execute_reply": "2024-03-23T17:43:37.628503Z"
    },
    "trusted": true,
    "ExecuteTime": {
     "end_time": "2024-03-24T18:05:33.240348100Z",
     "start_time": "2024-03-24T18:05:33.229169500Z"
    }
   },
   "execution_count": 246,
   "outputs": []
  },
  {
   "cell_type": "markdown",
   "source": [
    "## Convert data types"
   ],
   "metadata": {}
  },
  {
   "cell_type": "code",
   "source": [
    "batting.drop(batting[batting['runs']=='-'].index, inplace=True)"
   ],
   "metadata": {
    "execution": {
     "iopub.status.busy": "2024-03-23T17:43:37.631661Z",
     "iopub.execute_input": "2024-03-23T17:43:37.632439Z",
     "iopub.status.idle": "2024-03-23T17:43:37.641687Z",
     "shell.execute_reply.started": "2024-03-23T17:43:37.632398Z",
     "shell.execute_reply": "2024-03-23T17:43:37.640312Z"
    },
    "trusted": true,
    "ExecuteTime": {
     "end_time": "2024-03-24T18:05:33.245869600Z",
     "start_time": "2024-03-24T18:05:33.238277900Z"
    }
   },
   "execution_count": 247,
   "outputs": []
  },
  {
   "cell_type": "code",
   "source": [
    "batting['strike_rate'] = batting['strike_rate'].str.replace('-','0')\n",
    "\n",
    "batting['runs'] = batting['runs'].astype('int16')\n",
    "batting['balls'] = batting['balls'].astype('int16')\n",
    "batting['minutes'] = batting['minutes'].astype('float16')\n",
    "batting['fours'] = batting['fours'].astype('int16')\n",
    "batting['sixes'] = batting['sixes'].astype('int16')\n",
    "batting['strike_rate'] = batting['strike_rate'].astype('float16')\n",
    "\n",
    "batting['date'] = pd.to_datetime(batting['date'])\n",
    "batting.info()"
   ],
   "metadata": {
    "execution": {
     "iopub.status.busy": "2024-03-23T17:43:37.642987Z",
     "iopub.execute_input": "2024-03-23T17:43:37.643389Z",
     "iopub.status.idle": "2024-03-23T17:43:37.673502Z",
     "shell.execute_reply.started": "2024-03-23T17:43:37.643357Z",
     "shell.execute_reply": "2024-03-23T17:43:37.672206Z"
    },
    "trusted": true,
    "ExecuteTime": {
     "end_time": "2024-03-24T18:05:33.366063400Z",
     "start_time": "2024-03-24T18:05:33.246866400Z"
    }
   },
   "execution_count": 248,
   "outputs": [
    {
     "name": "stdout",
     "output_type": "stream",
     "text": [
      "<class 'pandas.core.frame.DataFrame'>\n",
      "Index: 989 entries, 0 to 989\n",
      "Data columns (total 14 columns):\n",
      " #   Column       Non-Null Count  Dtype         \n",
      "---  ------       --------------  -----         \n",
      " 0   batsman      989 non-null    object        \n",
      " 1   runs         989 non-null    int16         \n",
      " 2   balls        989 non-null    int16         \n",
      " 3   minutes      989 non-null    float16       \n",
      " 4   fours        989 non-null    int16         \n",
      " 5   sixes        989 non-null    int16         \n",
      " 6   strike_rate  989 non-null    float16       \n",
      " 7   inning       989 non-null    object        \n",
      " 8   series       989 non-null    object        \n",
      " 9   team         989 non-null    object        \n",
      " 10  vs           989 non-null    object        \n",
      " 11  match        989 non-null    object        \n",
      " 12  venue        989 non-null    object        \n",
      " 13  date         989 non-null    datetime64[ns]\n",
      "dtypes: datetime64[ns](1), float16(2), int16(4), object(7)\n",
      "memory usage: 81.1+ KB\n"
     ]
    }
   ]
  },
  {
   "cell_type": "markdown",
   "source": [
    "**Remove special character *†* (wicket keeper) and (c) from batsman name**"
   ],
   "metadata": {}
  },
  {
   "cell_type": "code",
   "source": [
    "batting['batsman'] = batting['batsman'].str.replace('†','').str.replace('(c)', '').str.strip()"
   ],
   "metadata": {
    "execution": {
     "iopub.status.busy": "2024-03-23T17:43:37.674954Z",
     "iopub.execute_input": "2024-03-23T17:43:37.675285Z",
     "iopub.status.idle": "2024-03-23T17:43:37.682909Z",
     "shell.execute_reply.started": "2024-03-23T17:43:37.675231Z",
     "shell.execute_reply": "2024-03-23T17:43:37.681685Z"
    },
    "trusted": true,
    "ExecuteTime": {
     "end_time": "2024-03-24T18:05:33.366063400Z",
     "start_time": "2024-03-24T18:05:33.274207800Z"
    }
   },
   "execution_count": 249,
   "outputs": []
  },
  {
   "cell_type": "code",
   "source": [
    "batting[batting['batsman']=='Tom Latham']"
   ],
   "metadata": {
    "execution": {
     "iopub.status.busy": "2024-03-23T17:43:56.625316Z",
     "iopub.execute_input": "2024-03-23T17:43:56.625687Z",
     "iopub.status.idle": "2024-03-23T17:43:56.650848Z",
     "shell.execute_reply.started": "2024-03-23T17:43:56.625659Z",
     "shell.execute_reply": "2024-03-23T17:43:56.649580Z"
    },
    "trusted": true,
    "ExecuteTime": {
     "end_time": "2024-03-24T18:05:33.428045600Z",
     "start_time": "2024-03-24T18:05:33.279216500Z"
    }
   },
   "execution_count": 250,
   "outputs": [
    {
     "data": {
      "text/plain": "        batsman  runs  balls  minutes  fours  sixes  strike_rate       inning  \\\n0    Tom Latham    38     69    100.0      7      0     55.06250  1st Innings   \n22   Tom Latham    73    168    252.0      8      0     43.43750  2nd Innings   \n86   Tom Latham     5     13     20.0      1      0     38.46875  1st Innings   \n108  Tom Latham     8     18     24.0      1      0     44.43750  2nd Innings   \n209  Tom Latham    40    104    134.0      1      1     38.46875  1st Innings   \n231  Tom Latham    30     57     82.0      5      0     52.62500  2nd Innings   \n236  Tom Latham    20     48     79.0      4      0     41.65625  1st Innings   \n258  Tom Latham     3     13     20.0      0      0     23.06250  2nd Innings   \n644  Tom Latham     4     20     25.0      0      0     20.00000  1st Innings   \n666  Tom Latham    26     60     86.0      3      0     43.34375  2nd Innings   \n685  Tom Latham    21     44     57.0      3      0     47.71875  1st Innings   \n707  Tom Latham     0      6      4.0      0      0      0.00000  2nd Innings   \n\n                                series         team            vs       match  \\\n0        Australia tour of New Zealand  New Zealand     Australia   2nd Test    \n22       Australia tour of New Zealand  New Zealand     Australia   2nd Test    \n86       Australia tour of New Zealand  New Zealand     Australia   1st Test    \n108      Australia tour of New Zealand  New Zealand     Australia   1st Test    \n209   South Africa tour of New Zealand  New Zealand  South Africa   2nd Test    \n231   South Africa tour of New Zealand  New Zealand  South Africa   2nd Test    \n236   South Africa tour of New Zealand  New Zealand  South Africa   1st Test    \n258   South Africa tour of New Zealand  New Zealand  South Africa   1st Test    \n644     New Zealand tour of Bangladesh  New Zealand    Bangladesh   2nd Test    \n666     New Zealand tour of Bangladesh  New Zealand    Bangladesh   2nd Test    \n685     New Zealand tour of Bangladesh  New Zealand    Bangladesh   1st Test    \n707     New Zealand tour of Bangladesh  New Zealand    Bangladesh   1st Test    \n\n                venue       date  \n0        Christchurch 2024-03-08  \n22       Christchurch 2024-03-08  \n86         Wellington 2024-02-29  \n108        Wellington 2024-02-29  \n209          Hamilton 2024-02-13  \n231          Hamilton 2024-02-13  \n236   Mount Maunganui 2024-02-04  \n258   Mount Maunganui 2024-02-04  \n644             Dhaka 2023-12-06  \n666             Dhaka 2023-12-06  \n685            Sylhet 2023-11-28  \n707            Sylhet 2023-11-28  ",
      "text/html": "<div>\n<style scoped>\n    .dataframe tbody tr th:only-of-type {\n        vertical-align: middle;\n    }\n\n    .dataframe tbody tr th {\n        vertical-align: top;\n    }\n\n    .dataframe thead th {\n        text-align: right;\n    }\n</style>\n<table border=\"1\" class=\"dataframe\">\n  <thead>\n    <tr style=\"text-align: right;\">\n      <th></th>\n      <th>batsman</th>\n      <th>runs</th>\n      <th>balls</th>\n      <th>minutes</th>\n      <th>fours</th>\n      <th>sixes</th>\n      <th>strike_rate</th>\n      <th>inning</th>\n      <th>series</th>\n      <th>team</th>\n      <th>vs</th>\n      <th>match</th>\n      <th>venue</th>\n      <th>date</th>\n    </tr>\n  </thead>\n  <tbody>\n    <tr>\n      <th>0</th>\n      <td>Tom Latham</td>\n      <td>38</td>\n      <td>69</td>\n      <td>100.0</td>\n      <td>7</td>\n      <td>0</td>\n      <td>55.06250</td>\n      <td>1st Innings</td>\n      <td>Australia tour of New Zealand</td>\n      <td>New Zealand</td>\n      <td>Australia</td>\n      <td>2nd Test</td>\n      <td>Christchurch</td>\n      <td>2024-03-08</td>\n    </tr>\n    <tr>\n      <th>22</th>\n      <td>Tom Latham</td>\n      <td>73</td>\n      <td>168</td>\n      <td>252.0</td>\n      <td>8</td>\n      <td>0</td>\n      <td>43.43750</td>\n      <td>2nd Innings</td>\n      <td>Australia tour of New Zealand</td>\n      <td>New Zealand</td>\n      <td>Australia</td>\n      <td>2nd Test</td>\n      <td>Christchurch</td>\n      <td>2024-03-08</td>\n    </tr>\n    <tr>\n      <th>86</th>\n      <td>Tom Latham</td>\n      <td>5</td>\n      <td>13</td>\n      <td>20.0</td>\n      <td>1</td>\n      <td>0</td>\n      <td>38.46875</td>\n      <td>1st Innings</td>\n      <td>Australia tour of New Zealand</td>\n      <td>New Zealand</td>\n      <td>Australia</td>\n      <td>1st Test</td>\n      <td>Wellington</td>\n      <td>2024-02-29</td>\n    </tr>\n    <tr>\n      <th>108</th>\n      <td>Tom Latham</td>\n      <td>8</td>\n      <td>18</td>\n      <td>24.0</td>\n      <td>1</td>\n      <td>0</td>\n      <td>44.43750</td>\n      <td>2nd Innings</td>\n      <td>Australia tour of New Zealand</td>\n      <td>New Zealand</td>\n      <td>Australia</td>\n      <td>1st Test</td>\n      <td>Wellington</td>\n      <td>2024-02-29</td>\n    </tr>\n    <tr>\n      <th>209</th>\n      <td>Tom Latham</td>\n      <td>40</td>\n      <td>104</td>\n      <td>134.0</td>\n      <td>1</td>\n      <td>1</td>\n      <td>38.46875</td>\n      <td>1st Innings</td>\n      <td>South Africa tour of New Zealand</td>\n      <td>New Zealand</td>\n      <td>South Africa</td>\n      <td>2nd Test</td>\n      <td>Hamilton</td>\n      <td>2024-02-13</td>\n    </tr>\n    <tr>\n      <th>231</th>\n      <td>Tom Latham</td>\n      <td>30</td>\n      <td>57</td>\n      <td>82.0</td>\n      <td>5</td>\n      <td>0</td>\n      <td>52.62500</td>\n      <td>2nd Innings</td>\n      <td>South Africa tour of New Zealand</td>\n      <td>New Zealand</td>\n      <td>South Africa</td>\n      <td>2nd Test</td>\n      <td>Hamilton</td>\n      <td>2024-02-13</td>\n    </tr>\n    <tr>\n      <th>236</th>\n      <td>Tom Latham</td>\n      <td>20</td>\n      <td>48</td>\n      <td>79.0</td>\n      <td>4</td>\n      <td>0</td>\n      <td>41.65625</td>\n      <td>1st Innings</td>\n      <td>South Africa tour of New Zealand</td>\n      <td>New Zealand</td>\n      <td>South Africa</td>\n      <td>1st Test</td>\n      <td>Mount Maunganui</td>\n      <td>2024-02-04</td>\n    </tr>\n    <tr>\n      <th>258</th>\n      <td>Tom Latham</td>\n      <td>3</td>\n      <td>13</td>\n      <td>20.0</td>\n      <td>0</td>\n      <td>0</td>\n      <td>23.06250</td>\n      <td>2nd Innings</td>\n      <td>South Africa tour of New Zealand</td>\n      <td>New Zealand</td>\n      <td>South Africa</td>\n      <td>1st Test</td>\n      <td>Mount Maunganui</td>\n      <td>2024-02-04</td>\n    </tr>\n    <tr>\n      <th>644</th>\n      <td>Tom Latham</td>\n      <td>4</td>\n      <td>20</td>\n      <td>25.0</td>\n      <td>0</td>\n      <td>0</td>\n      <td>20.00000</td>\n      <td>1st Innings</td>\n      <td>New Zealand tour of Bangladesh</td>\n      <td>New Zealand</td>\n      <td>Bangladesh</td>\n      <td>2nd Test</td>\n      <td>Dhaka</td>\n      <td>2023-12-06</td>\n    </tr>\n    <tr>\n      <th>666</th>\n      <td>Tom Latham</td>\n      <td>26</td>\n      <td>60</td>\n      <td>86.0</td>\n      <td>3</td>\n      <td>0</td>\n      <td>43.34375</td>\n      <td>2nd Innings</td>\n      <td>New Zealand tour of Bangladesh</td>\n      <td>New Zealand</td>\n      <td>Bangladesh</td>\n      <td>2nd Test</td>\n      <td>Dhaka</td>\n      <td>2023-12-06</td>\n    </tr>\n    <tr>\n      <th>685</th>\n      <td>Tom Latham</td>\n      <td>21</td>\n      <td>44</td>\n      <td>57.0</td>\n      <td>3</td>\n      <td>0</td>\n      <td>47.71875</td>\n      <td>1st Innings</td>\n      <td>New Zealand tour of Bangladesh</td>\n      <td>New Zealand</td>\n      <td>Bangladesh</td>\n      <td>1st Test</td>\n      <td>Sylhet</td>\n      <td>2023-11-28</td>\n    </tr>\n    <tr>\n      <th>707</th>\n      <td>Tom Latham</td>\n      <td>0</td>\n      <td>6</td>\n      <td>4.0</td>\n      <td>0</td>\n      <td>0</td>\n      <td>0.00000</td>\n      <td>2nd Innings</td>\n      <td>New Zealand tour of Bangladesh</td>\n      <td>New Zealand</td>\n      <td>Bangladesh</td>\n      <td>1st Test</td>\n      <td>Sylhet</td>\n      <td>2023-11-28</td>\n    </tr>\n  </tbody>\n</table>\n</div>"
     },
     "execution_count": 250,
     "metadata": {},
     "output_type": "execute_result"
    }
   ]
  },
  {
   "cell_type": "code",
   "execution_count": 251,
   "outputs": [],
   "source": [
    "openers_per_match = batting. \\\n",
    "    select_dtypes(exclude=['datetime64']). \\\n",
    "    groupby(['series', 'match', 'inning']). \\\n",
    "    apply(lambda x: x.head(2), include_groups=False).reset_index(drop=True)\n",
    "\n",
    "# Aggregation\n",
    "openers_agg = openers_per_match. \\\n",
    "    groupby(['batsman'], sort=False). \\\n",
    "    agg({\n",
    "    'runs': 'sum',\n",
    "    'balls': 'sum',\n",
    "    'minutes': 'sum',\n",
    "    'fours': 'sum',\n",
    "    'sixes': 'sum',\n",
    "    'strike_rate': 'mean',\n",
    "    'batsman': 'size',\n",
    "})\n",
    "\n",
    "openers_agg = openers_agg.rename(columns={'batsman': 'appearances'})"
   ],
   "metadata": {
    "collapsed": false,
    "ExecuteTime": {
     "end_time": "2024-03-24T18:05:33.473717600Z",
     "start_time": "2024-03-24T18:05:33.298629600Z"
    }
   }
  },
  {
   "cell_type": "code",
   "execution_count": 252,
   "outputs": [],
   "source": [
    "openers_agg['average'] = np.divide(openers_agg['runs'], openers_agg['appearances']).round(2)\n",
    "all_openers = openers_agg.sort_values(by=['runs', 'average', 'balls', 'appearances'], ascending=False)"
   ],
   "metadata": {
    "collapsed": false,
    "ExecuteTime": {
     "end_time": "2024-03-24T18:05:33.534583900Z",
     "start_time": "2024-03-24T18:05:33.338748800Z"
    }
   }
  },
  {
   "cell_type": "code",
   "execution_count": 253,
   "outputs": [
    {
     "data": {
      "text/plain": "                  runs  balls  minutes  fours  sixes  strike_rate  \\\nbatsman                                                             \nYashasvi Jaiswal   472    618    865.0     43     19    66.570312   \nZak Crawley        395    541    802.0     50      3    65.006248   \nUsman Khawaja      384    968   1511.0     43      1    34.467186   \nDavid Warner       304    489    641.0     31      5    46.113281   \n\n                  appearances  average  \nbatsman                                 \nYashasvi Jaiswal            6    78.67  \nZak Crawley                10    39.50  \nUsman Khawaja              10    38.40  \nDavid Warner                8    38.00  ",
      "text/html": "<div>\n<style scoped>\n    .dataframe tbody tr th:only-of-type {\n        vertical-align: middle;\n    }\n\n    .dataframe tbody tr th {\n        vertical-align: top;\n    }\n\n    .dataframe thead th {\n        text-align: right;\n    }\n</style>\n<table border=\"1\" class=\"dataframe\">\n  <thead>\n    <tr style=\"text-align: right;\">\n      <th></th>\n      <th>runs</th>\n      <th>balls</th>\n      <th>minutes</th>\n      <th>fours</th>\n      <th>sixes</th>\n      <th>strike_rate</th>\n      <th>appearances</th>\n      <th>average</th>\n    </tr>\n    <tr>\n      <th>batsman</th>\n      <th></th>\n      <th></th>\n      <th></th>\n      <th></th>\n      <th></th>\n      <th></th>\n      <th></th>\n      <th></th>\n    </tr>\n  </thead>\n  <tbody>\n    <tr>\n      <th>Yashasvi Jaiswal</th>\n      <td>472</td>\n      <td>618</td>\n      <td>865.0</td>\n      <td>43</td>\n      <td>19</td>\n      <td>66.570312</td>\n      <td>6</td>\n      <td>78.67</td>\n    </tr>\n    <tr>\n      <th>Zak Crawley</th>\n      <td>395</td>\n      <td>541</td>\n      <td>802.0</td>\n      <td>50</td>\n      <td>3</td>\n      <td>65.006248</td>\n      <td>10</td>\n      <td>39.50</td>\n    </tr>\n    <tr>\n      <th>Usman Khawaja</th>\n      <td>384</td>\n      <td>968</td>\n      <td>1511.0</td>\n      <td>43</td>\n      <td>1</td>\n      <td>34.467186</td>\n      <td>10</td>\n      <td>38.40</td>\n    </tr>\n    <tr>\n      <th>David Warner</th>\n      <td>304</td>\n      <td>489</td>\n      <td>641.0</td>\n      <td>31</td>\n      <td>5</td>\n      <td>46.113281</td>\n      <td>8</td>\n      <td>38.00</td>\n    </tr>\n  </tbody>\n</table>\n</div>"
     },
     "execution_count": 253,
     "metadata": {},
     "output_type": "execute_result"
    }
   ],
   "source": [
    "all_openers[:4]"
   ],
   "metadata": {
    "collapsed": false,
    "ExecuteTime": {
     "end_time": "2024-03-24T18:05:33.554411600Z",
     "start_time": "2024-03-24T18:05:33.363150900Z"
    }
   }
  },
  {
   "cell_type": "code",
   "execution_count": 254,
   "outputs": [],
   "source": [
    "batsman_per_match = batting. \\\n",
    "    select_dtypes(exclude=['datetime64']). \\\n",
    "    groupby(['batsman'], sort=False)\n",
    "    # Aggregation\n",
    "batsman_agg = batsman_per_match. \\\n",
    "    agg({\n",
    "    'runs': 'sum',\n",
    "    'balls': 'sum',\n",
    "    'minutes': 'sum',\n",
    "    'fours': 'sum',\n",
    "    'sixes': 'sum',\n",
    "    'strike_rate': 'mean',\n",
    "    'batsman': 'size',\n",
    "})\n",
    "\n",
    "batsman_agg = batsman_agg.rename(columns={'batsman': 'appearances'})"
   ],
   "metadata": {
    "collapsed": false,
    "ExecuteTime": {
     "end_time": "2024-03-24T18:05:33.575976300Z",
     "start_time": "2024-03-24T18:05:33.375074800Z"
    }
   }
  },
  {
   "cell_type": "code",
   "execution_count": 255,
   "outputs": [],
   "source": [
    "batsman_agg['average'] = np.divide(batsman_agg['runs'], batsman_agg['appearances']).round(2)\n",
    "all_batsman = batsman_agg.sort_values(by=['runs', 'average', 'balls', 'appearances'], ascending=False)"
   ],
   "metadata": {
    "collapsed": false,
    "ExecuteTime": {
     "end_time": "2024-03-24T18:05:33.653065800Z",
     "start_time": "2024-03-24T18:05:33.398556600Z"
    }
   }
  },
  {
   "cell_type": "code",
   "execution_count": 263,
   "outputs": [
    {
     "data": {
      "text/plain": "                  runs  balls  minutes  fours  sixes  strike_rate  \\\nbatsman                                                             \nYashasvi Jaiswal   933   1363   1886.0     95     27    68.643974   \nUsman Khawaja      922   2285   3465.0    104      4    37.138493   \nZak Crawley        698    953   1423.0     86      6    67.406250   \nSteven Smith       680   1383   2239.0     74      3    63.218040   \nMitchell Marsh     668    889   1306.0     93     12    64.553711   \nBen Duckett        663    817   1358.0     88      2    77.402779   \nJoe Root           648   1105   1637.0     64      7    58.807293   \nKane Williamson    619   1221   1739.0     74      3    49.218750   \nTravis Head        582    811   1275.0     76      8    56.667187   \nRohit Sharma       563    938   1383.0     68      9    55.256695   \n\n                  appearances  average  \nbatsman                                 \nYashasvi Jaiswal           14    66.64  \nUsman Khawaja              22    41.91  \nZak Crawley                18    38.78  \nSteven Smith               22    30.91  \nMitchell Marsh             16    41.75  \nBen Duckett                18    36.83  \nJoe Root                   18    36.00  \nKane Williamson            12    51.58  \nTravis Head                20    29.10  \nRohit Sharma               14    40.21  ",
      "text/html": "<div>\n<style scoped>\n    .dataframe tbody tr th:only-of-type {\n        vertical-align: middle;\n    }\n\n    .dataframe tbody tr th {\n        vertical-align: top;\n    }\n\n    .dataframe thead th {\n        text-align: right;\n    }\n</style>\n<table border=\"1\" class=\"dataframe\">\n  <thead>\n    <tr style=\"text-align: right;\">\n      <th></th>\n      <th>runs</th>\n      <th>balls</th>\n      <th>minutes</th>\n      <th>fours</th>\n      <th>sixes</th>\n      <th>strike_rate</th>\n      <th>appearances</th>\n      <th>average</th>\n    </tr>\n    <tr>\n      <th>batsman</th>\n      <th></th>\n      <th></th>\n      <th></th>\n      <th></th>\n      <th></th>\n      <th></th>\n      <th></th>\n      <th></th>\n    </tr>\n  </thead>\n  <tbody>\n    <tr>\n      <th>Yashasvi Jaiswal</th>\n      <td>933</td>\n      <td>1363</td>\n      <td>1886.0</td>\n      <td>95</td>\n      <td>27</td>\n      <td>68.643974</td>\n      <td>14</td>\n      <td>66.64</td>\n    </tr>\n    <tr>\n      <th>Usman Khawaja</th>\n      <td>922</td>\n      <td>2285</td>\n      <td>3465.0</td>\n      <td>104</td>\n      <td>4</td>\n      <td>37.138493</td>\n      <td>22</td>\n      <td>41.91</td>\n    </tr>\n    <tr>\n      <th>Zak Crawley</th>\n      <td>698</td>\n      <td>953</td>\n      <td>1423.0</td>\n      <td>86</td>\n      <td>6</td>\n      <td>67.406250</td>\n      <td>18</td>\n      <td>38.78</td>\n    </tr>\n    <tr>\n      <th>Steven Smith</th>\n      <td>680</td>\n      <td>1383</td>\n      <td>2239.0</td>\n      <td>74</td>\n      <td>3</td>\n      <td>63.218040</td>\n      <td>22</td>\n      <td>30.91</td>\n    </tr>\n    <tr>\n      <th>Mitchell Marsh</th>\n      <td>668</td>\n      <td>889</td>\n      <td>1306.0</td>\n      <td>93</td>\n      <td>12</td>\n      <td>64.553711</td>\n      <td>16</td>\n      <td>41.75</td>\n    </tr>\n    <tr>\n      <th>Ben Duckett</th>\n      <td>663</td>\n      <td>817</td>\n      <td>1358.0</td>\n      <td>88</td>\n      <td>2</td>\n      <td>77.402779</td>\n      <td>18</td>\n      <td>36.83</td>\n    </tr>\n    <tr>\n      <th>Joe Root</th>\n      <td>648</td>\n      <td>1105</td>\n      <td>1637.0</td>\n      <td>64</td>\n      <td>7</td>\n      <td>58.807293</td>\n      <td>18</td>\n      <td>36.00</td>\n    </tr>\n    <tr>\n      <th>Kane Williamson</th>\n      <td>619</td>\n      <td>1221</td>\n      <td>1739.0</td>\n      <td>74</td>\n      <td>3</td>\n      <td>49.218750</td>\n      <td>12</td>\n      <td>51.58</td>\n    </tr>\n    <tr>\n      <th>Travis Head</th>\n      <td>582</td>\n      <td>811</td>\n      <td>1275.0</td>\n      <td>76</td>\n      <td>8</td>\n      <td>56.667187</td>\n      <td>20</td>\n      <td>29.10</td>\n    </tr>\n    <tr>\n      <th>Rohit Sharma</th>\n      <td>563</td>\n      <td>938</td>\n      <td>1383.0</td>\n      <td>68</td>\n      <td>9</td>\n      <td>55.256695</td>\n      <td>14</td>\n      <td>40.21</td>\n    </tr>\n  </tbody>\n</table>\n</div>"
     },
     "execution_count": 263,
     "metadata": {},
     "output_type": "execute_result"
    }
   ],
   "source": [
    "all_batsman[:10]"
   ],
   "metadata": {
    "collapsed": false,
    "ExecuteTime": {
     "end_time": "2024-03-24T18:08:57.886051900Z",
     "start_time": "2024-03-24T18:08:57.850973700Z"
    }
   }
  },
  {
   "cell_type": "code",
   "execution_count": 258,
   "outputs": [],
   "source": [
    "all_rounders = pd.merge(batting, bowling, how='outer', left_on='batsman', right_on='bowler')\n",
    "all_rounders = all_rounders.drop_duplicates()"
   ],
   "metadata": {
    "collapsed": false,
    "ExecuteTime": {
     "end_time": "2024-03-24T18:05:33.658060300Z",
     "start_time": "2024-03-24T18:05:33.452722100Z"
    }
   }
  },
  {
   "cell_type": "code",
   "execution_count": 259,
   "outputs": [],
   "source": [
    "bowler_per_match = bowling. \\\n",
    "    select_dtypes(exclude=['datetime64']). \\\n",
    "    groupby(['bowler'])\n",
    "# Aggregation\n",
    "bowler_agg = bowler_per_match. \\\n",
    "    agg({\n",
    "    'runs': 'sum',\n",
    "    'maiden': 'sum',\n",
    "    'over': 'sum',\n",
    "    'wickets': 'sum',\n",
    "    'economy': 'mean',\n",
    "    'wide': 'sum',\n",
    "    'noball': 'sum',\n",
    "    'bowler': 'size',\n",
    "})\n",
    "\n",
    "bowler_agg = bowler_agg.rename(columns={'bowler': 'appearances'})"
   ],
   "metadata": {
    "collapsed": false,
    "ExecuteTime": {
     "end_time": "2024-03-24T18:05:33.691298100Z",
     "start_time": "2024-03-24T18:05:33.504453300Z"
    }
   }
  },
  {
   "cell_type": "code",
   "execution_count": 260,
   "outputs": [],
   "source": [
    "best_bowlers = bowler_agg.sort_values(by=['wickets', 'over', 'appearances'], ascending=False)"
   ],
   "metadata": {
    "collapsed": false,
    "ExecuteTime": {
     "end_time": "2024-03-24T18:05:33.693286800Z",
     "start_time": "2024-03-24T18:05:33.535575100Z"
    }
   }
  },
  {
   "cell_type": "code",
   "execution_count": 261,
   "outputs": [
    {
     "data": {
      "text/plain": "                     runs  maiden   over  wickets   economy  wide  noball  \\\nbowler                                                                      \nPat Cummins          1129      38  338.4       47  3.420000     7       8   \nMitchell Starc       1225      46  298.2       46  4.094500    14       6   \nJosh Hazlewood        917      63  291.8       46  3.151000     3      10   \nNathan Lyon           937      35  288.3       43  3.114118     0       0   \nRavichandran Ashwin   817      31  220.5       39  3.833846     0       0   \nJasprit Bumrah        476      26  151.0       31  3.180000     0       7   \nRavindra Jadeja       540      36  180.9       24  3.002000     0      12   \nMatt Henry            390      36  137.2       23  2.783750     3       0   \n\n                     appearances  \nbowler                            \nPat Cummins                   22  \nMitchell Starc                20  \nJosh Hazlewood                20  \nNathan Lyon                   17  \nRavichandran Ashwin           13  \nJasprit Bumrah                11  \nRavindra Jadeja               10  \nMatt Henry                     8  ",
      "text/html": "<div>\n<style scoped>\n    .dataframe tbody tr th:only-of-type {\n        vertical-align: middle;\n    }\n\n    .dataframe tbody tr th {\n        vertical-align: top;\n    }\n\n    .dataframe thead th {\n        text-align: right;\n    }\n</style>\n<table border=\"1\" class=\"dataframe\">\n  <thead>\n    <tr style=\"text-align: right;\">\n      <th></th>\n      <th>runs</th>\n      <th>maiden</th>\n      <th>over</th>\n      <th>wickets</th>\n      <th>economy</th>\n      <th>wide</th>\n      <th>noball</th>\n      <th>appearances</th>\n    </tr>\n    <tr>\n      <th>bowler</th>\n      <th></th>\n      <th></th>\n      <th></th>\n      <th></th>\n      <th></th>\n      <th></th>\n      <th></th>\n      <th></th>\n    </tr>\n  </thead>\n  <tbody>\n    <tr>\n      <th>Pat Cummins</th>\n      <td>1129</td>\n      <td>38</td>\n      <td>338.4</td>\n      <td>47</td>\n      <td>3.420000</td>\n      <td>7</td>\n      <td>8</td>\n      <td>22</td>\n    </tr>\n    <tr>\n      <th>Mitchell Starc</th>\n      <td>1225</td>\n      <td>46</td>\n      <td>298.2</td>\n      <td>46</td>\n      <td>4.094500</td>\n      <td>14</td>\n      <td>6</td>\n      <td>20</td>\n    </tr>\n    <tr>\n      <th>Josh Hazlewood</th>\n      <td>917</td>\n      <td>63</td>\n      <td>291.8</td>\n      <td>46</td>\n      <td>3.151000</td>\n      <td>3</td>\n      <td>10</td>\n      <td>20</td>\n    </tr>\n    <tr>\n      <th>Nathan Lyon</th>\n      <td>937</td>\n      <td>35</td>\n      <td>288.3</td>\n      <td>43</td>\n      <td>3.114118</td>\n      <td>0</td>\n      <td>0</td>\n      <td>17</td>\n    </tr>\n    <tr>\n      <th>Ravichandran Ashwin</th>\n      <td>817</td>\n      <td>31</td>\n      <td>220.5</td>\n      <td>39</td>\n      <td>3.833846</td>\n      <td>0</td>\n      <td>0</td>\n      <td>13</td>\n    </tr>\n    <tr>\n      <th>Jasprit Bumrah</th>\n      <td>476</td>\n      <td>26</td>\n      <td>151.0</td>\n      <td>31</td>\n      <td>3.180000</td>\n      <td>0</td>\n      <td>7</td>\n      <td>11</td>\n    </tr>\n    <tr>\n      <th>Ravindra Jadeja</th>\n      <td>540</td>\n      <td>36</td>\n      <td>180.9</td>\n      <td>24</td>\n      <td>3.002000</td>\n      <td>0</td>\n      <td>12</td>\n      <td>10</td>\n    </tr>\n    <tr>\n      <th>Matt Henry</th>\n      <td>390</td>\n      <td>36</td>\n      <td>137.2</td>\n      <td>23</td>\n      <td>2.783750</td>\n      <td>3</td>\n      <td>0</td>\n      <td>8</td>\n    </tr>\n  </tbody>\n</table>\n</div>"
     },
     "execution_count": 261,
     "metadata": {},
     "output_type": "execute_result"
    }
   ],
   "source": [
    "best_bowlers[:8]"
   ],
   "metadata": {
    "collapsed": false,
    "ExecuteTime": {
     "end_time": "2024-03-24T18:05:33.702279500Z",
     "start_time": "2024-03-24T18:05:33.554411600Z"
    }
   }
  },
  {
   "cell_type": "code",
   "execution_count": 261,
   "outputs": [],
   "source": [],
   "metadata": {
    "collapsed": false,
    "ExecuteTime": {
     "end_time": "2024-03-24T18:05:33.702279500Z",
     "start_time": "2024-03-24T18:05:33.584637700Z"
    }
   }
  }
 ]
}
