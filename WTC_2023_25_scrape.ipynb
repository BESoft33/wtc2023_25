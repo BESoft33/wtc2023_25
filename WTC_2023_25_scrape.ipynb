{
  "cells": [
    {
      "cell_type": "markdown",
      "metadata": {
        "id": "92kx1WN0-P3Y"
      },
      "source": [
        "# Import necessary libraries"
      ]
    },
    {
      "cell_type": "code",
      "execution_count": 2,
      "metadata": {
        "id": "3_w7tX2q0k-_"
      },
      "outputs": [],
      "source": [
        "import pandas as pd\n",
        "import numpy as np\n",
        "from bs4 import BeautifulSoup\n",
        "import requests\n",
        "import re\n",
        "import json\n",
        "import csv"
      ]
    },
    {
      "cell_type": "code",
      "execution_count": 15,
      "metadata": {
        "id": "maG7rNA40nrV"
      },
      "outputs": [],
      "source": [
        "headers = {\n",
        "    \"Accept\": \"text/html,application/xhtml+xml,application/xml;q=0.9,image/webp,image/apng,*/*;q=0.8,application/signed-exchange;v=b3;q=0.9\",\n",
        "    \"Accept-Encoding\": \"gzip, deflate\",\n",
        "    \"Accept-Language\": \"en-GB,en-US;q=0.9,en;q=0.8\",\n",
        "    \"Dnt\": \"1\",\n",
        "    \"Upgrade-Insecure-Requests\": \"1\",\n",
        "    \"User-Agent\": \"Mozilla/5.0 (X11; Ubuntu; Linux x86_64; rv:123.0) Gecko/20100101 Firefox/123.0\",\n",
        "}"
      ]
    },
    {
      "cell_type": "code",
      "execution_count": 16,
      "metadata": {
        "id": "cyrJXElr0ral"
      },
      "outputs": [],
      "source": [
        "url2023 = 'https://www.espncricinfo.com/records/year/team-match-results/2023-2023/test-matches-1'\n",
        "url2024 = 'https://www.espncricinfo.com/records/year/team-match-results/2024-2024/test-matches-1'"
      ]
    },
    {
      "cell_type": "markdown",
      "metadata": {},
      "source": [
        "# Scraping data from table tags"
      ]
    },
    {
      "cell_type": "code",
      "execution_count": 17,
      "metadata": {
        "id": "QMVvd4cs0vVY"
      },
      "outputs": [],
      "source": [
        "def extract_match(soup:BeautifulSoup):\n",
        "    all_rows = soup.select('table > tbody > tr')\n",
        "    match_summary = []\n",
        "\n",
        "    for row in all_rows:\n",
        "        element = row.find_all('td')\n",
        "\n",
        "        team1 = element[0].text.strip()\n",
        "        team2 = element[1].text.strip()\n",
        "        winner = element[2].text.strip()\n",
        "        margin = element[3].text.strip()\n",
        "        ground = element[4].text.strip()\n",
        "        match_date = element[5].text.strip()\n",
        "        scorecard_link = \"https://www.espncricinfo.com\" + element[6].find('a')['href'].strip()\n",
        "        matchid = element[6].text.strip()\n",
        "\n",
        "        match_summary.append({\n",
        "            'matchid': matchid,\n",
        "            'team1': team1,\n",
        "            'team2': team2,\n",
        "            'winner': winner,\n",
        "            'margin': margin,\n",
        "            'ground': ground,\n",
        "            'matchDate': match_date,\n",
        "            'scorecard_link': scorecard_link\n",
        "        })\n",
        "\n",
        "    # Step 4: Creating a new list to filter out matches with a valid margin\n",
        "    newMatchSummary = []\n",
        "\n",
        "    for match in match_summary:\n",
        "        if match['margin'] != '-':\n",
        "            if ('wickets' in match['margin']) or ('wicket' in match['margin']):\n",
        "                finT2 = match['winner']\n",
        "                finT1 = match['team1'] if match['team1'] != match['winner'] else match['team2']\n",
        "            elif ('runs' in match['margin']) or ('run' in match['margin']):\n",
        "                finT1 = match['winner']\n",
        "                finT2 = match['team1'] if match['team1'] != match['winner'] else match['team2']\n",
        "\n",
        "            newMatchSummary.append({\n",
        "                'matchid': match['matchid'],\n",
        "                'team1': finT1,\n",
        "                'team2': finT2,\n",
        "                'winner': match['winner'],\n",
        "                'margin': match['margin'],\n",
        "                'matchDate': match['matchDate'],\n",
        "                'scorecard_link': match['scorecard_link']\n",
        "            })\n",
        "\n",
        "    # Step 5: Convert the data into a pandas DataFrame\n",
        "    return pd.DataFrame(newMatchSummary)"
      ]
    },
    {
      "cell_type": "markdown",
      "metadata": {},
      "source": [
        "# Scrape data from both links and combine them into one"
      ]
    },
    {
      "cell_type": "code",
      "execution_count": 18,
      "metadata": {
        "id": "9H4Rp6W90yal"
      },
      "outputs": [],
      "source": [
        "page = requests.get(url2023)\n",
        "soup = BeautifulSoup(page.content, 'html.parser')\n",
        "\n",
        "match2023df = extract_match(soup)\n",
        "\n",
        "page = requests.get(url2024)\n",
        "soup = BeautifulSoup(page.content, 'html.parser')\n",
        "\n",
        "match2024df = extract_match(soup)"
      ]
    },
    {
      "cell_type": "code",
      "execution_count": 19,
      "metadata": {
        "id": "Hx4O74HX0160"
      },
      "outputs": [],
      "source": [
        "match2023df = match2023df[:12]\n",
        "matchdf = pd.concat([match2024df.reset_index(drop=True), match2023df.reset_index(drop=True)]).reset_index(drop=True)"
      ]
    },
    {
      "cell_type": "markdown",
      "metadata": {},
      "source": [
        "# Drop 'Afghanistan' and 'Ireland' as they are not part of WTC2023-2025"
      ]
    },
    {
      "cell_type": "code",
      "execution_count": 20,
      "metadata": {
        "id": "mC54tAEEN2YO"
      },
      "outputs": [],
      "source": [
        "# drop every record from matchdf that matches 'Afganistan' or 'Ireland' in team1 and team2\n",
        "\n",
        "matchdf = matchdf[~matchdf['team1'].isin(['Afghanistan', 'Ireland'])]\n",
        "matchdf = matchdf[~matchdf['team2'].isin(['Afghanistan', 'Ireland'])]"
      ]
    },
    {
      "cell_type": "markdown",
      "metadata": {},
      "source": [
        "# Scraping from each match"
      ]
    },
    {
      "cell_type": "code",
      "execution_count": 46,
      "metadata": {
        "id": "mVRDI1Yz2xiX"
      },
      "outputs": [],
      "source": [
        "def scrape_match_data(link:str):\n",
        "  scorecard = requests.get(link)\n",
        "  soup = BeautifulSoup(scorecard.content, 'html.parser')\n",
        "\n",
        "  innings = soup.find_all('div', class_='ds-rounded-lg ds-mt-2')\n",
        "\n",
        "  series = soup.select_one('h1.ds-text-title-xs').get_text()\n",
        "\n",
        "  match_head = []\n",
        "  match_body = []\n",
        "  inning_info = []\n",
        "\n",
        "  for inning in innings:\n",
        "    match_body.append(inning.select('table > tbody'))\n",
        "\n",
        "    inning_info.append(\n",
        "        inning.find('div', class_='ds-flex ds-px-4 ds-border-b ds-border-line ds-py-3 ds-bg-ui-fill-translucent-hover')\n",
        "        .get_text().replace('\\xa0',' ')\n",
        "        .split('(')[0]\n",
        "        .strip()\n",
        "        )\n",
        "\n",
        "    match_summary = {}\n",
        "    batting_summary = {}\n",
        "    bowling_summary = {}\n",
        "\n",
        "  for inning_body, inning in zip(match_body, inning_info):\n",
        "      batting = inning_body[0].select('tr:not(.ds-hidden)') #batting\n",
        "      bowling = inning_body[1].select('tr:not(.ds-hidden)')#bowling\n",
        "\n",
        "      bowler_stats = {}\n",
        "      batsman_stats = {}\n",
        "\n",
        "      for tr in batting:\n",
        "          tds = tr.select('td')\n",
        "          if tds[0].get_text() == 'Extras':\n",
        "              break\n",
        "          batsman = tds[0].get_text()\n",
        "          batsman_stats[batsman] = {\n",
        "            'R': tds[2].get_text(),\n",
        "            'B': tds[3].get_text(),\n",
        "            'M': tds[4].get_text(),\n",
        "            '4s': tds[5].get_text(),\n",
        "            '6s': tds[6].get_text(),\n",
        "            'SR': tds[7].get_text(),\n",
        "          }\n",
        "          batting_summary[inning] = batsman_stats\n",
        "\n",
        "      for tr in bowling:\n",
        "        tds = tr.select('td:not(.ds-hidden)')\n",
        "        bowler = tds[0].get_text()\n",
        "        bowler_stats[bowler] = {\n",
        "          'O': tds[1].get_text(),\n",
        "          'M': tds[2].get_text(),\n",
        "          'R': tds[3].get_text(),\n",
        "          'W': tds[4].get_text(),\n",
        "          'EC' : tds[5].get_text(),\n",
        "          'WD' : tds[6].get_text(),\n",
        "          'NB' : tds[7].get_text(),\n",
        "        }\n",
        "      bowling_summary[inning] = bowler_stats\n",
        "\n",
        "      match_summary.update({\n",
        "          'bowling_summary': bowling_summary,\n",
        "          'batting_summary': batting_summary,\n",
        "          'series': series,\n",
        "          })\n",
        "  return json.dumps(match_summary)"
      ]
    },
    {
      "cell_type": "markdown",
      "metadata": {},
      "source": [
        "### Create a header"
      ]
    },
    {
      "cell_type": "code",
      "execution_count": 55,
      "metadata": {
        "id": "vmQFEEUz04th"
      },
      "outputs": [],
      "source": [
        "with open('bowling_stats.csv', 'w', newline='\\n') as bowling:\n",
        "  writer = csv.writer(bowling, delimiter=',')\n",
        "  titles = ['bowler', 'over', 'maiden', 'runs', 'wickets', 'economy', 'wide', 'noball', 'inning', 'series']\n",
        "  writer.writerow(titles)\n",
        "\n",
        "with open('batting_stats.csv', 'w', newline='\\n') as batting:\n",
        "  writer = csv.writer(batting, delimiter=',')\n",
        "  titles = ['batsman', 'runs', 'balls', 'minutes', 'fours', 'sixes', 'strike_rate', 'inning', 'series']\n",
        "  writer.writerow(titles)"
      ]
    },
    {
      "cell_type": "markdown",
      "metadata": {},
      "source": [
        "### Write into files"
      ]
    },
    {
      "cell_type": "code",
      "execution_count": 59,
      "metadata": {
        "colab": {
          "base_uri": "https://localhost:8080/"
        },
        "id": "QnaGr3jkDLVC",
        "outputId": "ed5fbd2b-a6d9-46cc-ba10-4deb76db184a"
      },
      "outputs": [
        {
          "name": "stdout",
          "output_type": "stream",
          "text": [
            "Finished scraping for link: https://www.espncricinfo.com/series/australia-in-new-zealand-2023-24-1388188/new-zealand-vs-australia-2nd-test-1388227/full-scorecard\n",
            "Finished scraping for link: https://www.espncricinfo.com/series/england-in-india-2023-24-1389386/india-vs-england-5th-test-1389403/full-scorecard\n",
            "Finished scraping for link: https://www.espncricinfo.com/series/australia-in-new-zealand-2023-24-1388188/new-zealand-vs-australia-1st-test-1388226/full-scorecard\n",
            "Finished scraping for link: https://www.espncricinfo.com/series/england-in-india-2023-24-1389386/india-vs-england-4th-test-1389402/full-scorecard\n",
            "Finished scraping for link: https://www.espncricinfo.com/series/england-in-india-2023-24-1389386/india-vs-england-3rd-test-1389401/full-scorecard\n",
            "Finished scraping for link: https://www.espncricinfo.com/series/south-africa-in-new-zealand-2023-24-1388186/new-zealand-vs-south-africa-2nd-test-1388222/full-scorecard\n",
            "Finished scraping for link: https://www.espncricinfo.com/series/south-africa-in-new-zealand-2023-24-1388186/new-zealand-vs-south-africa-1st-test-1388221/full-scorecard\n",
            "Finished scraping for link: https://www.espncricinfo.com/series/england-in-india-2023-24-1389386/india-vs-england-2nd-test-1389400/full-scorecard\n",
            "Finished scraping for link: https://www.espncricinfo.com/series/west-indies-in-australia-2023-24-1375837/australia-vs-west-indies-2nd-test-1375846/full-scorecard\n",
            "Finished scraping for link: https://www.espncricinfo.com/series/england-in-india-2023-24-1389386/india-vs-england-1st-test-1389399/full-scorecard\n",
            "Finished scraping for link: https://www.espncricinfo.com/series/west-indies-in-australia-2023-24-1375837/australia-vs-west-indies-1st-test-1375845/full-scorecard\n",
            "Finished scraping for link: https://www.espncricinfo.com/series/india-in-south-africa-2023-24-1387592/south-africa-vs-india-2nd-test-1387604/full-scorecard\n",
            "Finished scraping for link: https://www.espncricinfo.com/series/pakistan-in-australia-2023-24-1375835/australia-vs-pakistan-3rd-test-1375844/full-scorecard\n",
            "Finished scraping for link: https://www.espncricinfo.com/series/india-in-south-africa-2023-24-1387592/south-africa-vs-india-1st-test-1387603/full-scorecard\n",
            "Finished scraping for link: https://www.espncricinfo.com/series/pakistan-in-australia-2023-24-1375835/australia-vs-pakistan-2nd-test-1375843/full-scorecard\n",
            "Finished scraping for link: https://www.espncricinfo.com/series/pakistan-in-australia-2023-24-1375835/australia-vs-pakistan-1st-test-1375842/full-scorecard\n",
            "Finished scraping for link: https://www.espncricinfo.com/series/new-zealand-in-bangladesh-2023-24-1395688/bangladesh-vs-new-zealand-2nd-test-1395704/full-scorecard\n",
            "Finished scraping for link: https://www.espncricinfo.com/series/new-zealand-in-bangladesh-2023-24-1395688/bangladesh-vs-new-zealand-1st-test-1395703/full-scorecard\n",
            "Finished scraping for link: https://www.espncricinfo.com/series/the-ashes-2023-1336037/england-vs-australia-5th-test-1336047/full-scorecard\n",
            "Finished scraping for link: https://www.espncricinfo.com/series/pakistan-in-sri-lanka-2023-1385664/sri-lanka-vs-pakistan-2nd-test-1385686/full-scorecard\n",
            "Finished scraping for link: https://www.espncricinfo.com/series/pakistan-in-sri-lanka-2023-1385664/sri-lanka-vs-pakistan-1st-test-1385685/full-scorecard\n",
            "Finished scraping for link: https://www.espncricinfo.com/series/india-in-west-indies-2023-1381201/west-indies-vs-india-1st-test-1381212/full-scorecard\n",
            "Finished scraping for link: https://www.espncricinfo.com/series/the-ashes-2023-1336037/england-vs-australia-3rd-test-1336045/full-scorecard\n",
            "Finished scraping for link: https://www.espncricinfo.com/series/the-ashes-2023-1336037/england-vs-australia-2nd-test-1336044/full-scorecard\n",
            "Finished scraping for link: https://www.espncricinfo.com/series/the-ashes-2023-1336037/england-vs-australia-1st-test-1336043/full-scorecard\n"
          ]
        }
      ],
      "source": [
        "for scorecard_link in matchdf['scorecard_link']:\n",
        "  data = scrape_match_data(scorecard_link)\n",
        "  json_data = json.loads(data)\n",
        "  bowling_summary, batting_summary, series = json_data['bowling_summary'], json_data['batting_summary'], json_data['series']\n",
        "\n",
        "  with open('bowling_stats.csv', 'a', newline='\\n') as bowling, open('batting_stats.csv', 'a', newline='\\n') as batting:\n",
        "\n",
        "    bowling_writer = csv.writer(bowling, delimiter=',')\n",
        "\n",
        "    for inning, bowler_stats in bowling_summary.items():\n",
        "      for bowler, stats in bowler_stats.items():\n",
        "        stats_list = list(stats.values())\n",
        "        line = [bowler, *stats_list, inning, series]\n",
        "        bowling_writer.writerow(line)\n",
        "\n",
        "    batting_writer = csv.writer(batting, delimiter=',')\n",
        "\n",
        "    for inning, batsman_stats in batting_summary.items():\n",
        "      for batsman, stats in batsman_stats.items():\n",
        "        stats_list = list(stats.values())\n",
        "        line = [batsman, *stats_list, inning, series]\n",
        "        batting_writer.writerow(line)\n",
        "\n",
        "  print(f\"Finished scraping for link: {scorecard_link}\")"
      ]
    }
  ],
  "metadata": {
    "colab": {
      "provenance": []
    },
    "kernelspec": {
      "display_name": "Python 3",
      "name": "python3"
    },
    "language_info": {
      "name": "python"
    }
  },
  "nbformat": 4,
  "nbformat_minor": 0
}
